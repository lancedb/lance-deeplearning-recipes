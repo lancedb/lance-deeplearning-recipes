{
  "cells": [
    {
      "cell_type": "markdown",
      "metadata": {},
      "source": [
        "# Imports"
      ]
    },
    {
      "cell_type": "code",
      "execution_count": 11,
      "metadata": {
        "id": "M5ejLihJETko"
      },
      "outputs": [],
      "source": [
        "import torch\n",
        "import torch.nn as nn\n",
        "import torch.optim as optim\n",
        "from torch.utils import data\n",
        "import torchvision.models as models\n",
        "import torchvision.transforms as transforms\n",
        "from torch.utils.data import DataLoader\n",
        "from torchvision.datasets import ImageFolder\n",
        "\n",
        "import io\n",
        "import wandb\n",
        "\n",
        "from PIL import Image\n",
        "from tqdm import tqdm\n",
        "\n",
        "import warnings\n",
        "warnings.simplefilter('ignore')"
      ]
    },
    {
      "cell_type": "markdown",
      "metadata": {},
      "source": [
        "### Downloading the Cinic Dataset"
      ]
    },
    {
      "cell_type": "code",
      "execution_count": 3,
      "metadata": {},
      "outputs": [
        {
          "name": "stdout",
          "output_type": "stream",
          "text": [
            "Downloading CINIC-10 dataset...\n"
          ]
        },
        {
          "name": "stderr",
          "output_type": "stream",
          "text": [
            "100%|██████████| 688M/688M [14:39<00:00, 782kiB/s]     \n"
          ]
        },
        {
          "name": "stdout",
          "output_type": "stream",
          "text": [
            "\n",
            "Download time: 879.70 seconds\n",
            "Extracting dataset files...\n",
            "Dataset downloaded and extracted successfully!\n"
          ]
        }
      ],
      "source": [
        "import requests\n",
        "import tarfile\n",
        "import os\n",
        "import time\n",
        "from tqdm import tqdm\n",
        "\n",
        "# Define the URL for the dataset file\n",
        "data_url = \"https://datashare.ed.ac.uk/bitstream/handle/10283/3192/CINIC-10.tar.gz?sequence=4&isAllowed=y\"\n",
        "\n",
        "# Create the data directory if it doesn't exist\n",
        "data_dir = \"cinic-10-data\"\n",
        "if not os.path.exists(data_dir):\n",
        "    os.makedirs(data_dir)\n",
        "\n",
        "# Download the dataset file\n",
        "print(\"Downloading CINIC-10 dataset...\")\n",
        "data_file = os.path.join(data_dir, \"CINIC-10.tar.gz\")\n",
        "\n",
        "response = requests.get(data_url, stream=True)\n",
        "total_size = int(response.headers.get('content-length', 0))\n",
        "block_size = 1024\n",
        "\n",
        "start_time = time.time()\n",
        "progress_bar = tqdm(total=total_size, unit='iB', unit_scale=True)\n",
        "\n",
        "with open(data_file, 'wb') as f:\n",
        "    for chunk in response.iter_content(chunk_size=block_size):\n",
        "        if chunk:\n",
        "            f.write(chunk)\n",
        "            progress_bar.update(len(chunk))\n",
        "\n",
        "end_time = time.time()\n",
        "download_time = end_time - start_time\n",
        "progress_bar.close()\n",
        "\n",
        "print(f\"\\nDownload time: {download_time:.2f} seconds\")\n",
        "\n",
        "# Extract the dataset files\n",
        "print(\"Extracting dataset files...\")\n",
        "with tarfile.open(data_file, 'r:gz') as tar:\n",
        "    tar.extractall(path=data_dir)\n",
        "\n",
        "print(\"Dataset downloaded and extracted successfully!\")"
      ]
    },
    {
      "cell_type": "markdown",
      "metadata": {},
      "source": [
        "### Converting it to Lance format"
      ]
    },
    {
      "cell_type": "code",
      "execution_count": 4,
      "metadata": {},
      "outputs": [
        {
          "name": "stderr",
          "output_type": "stream",
          "text": [
            "Processing test - cat: 100%|██████████| 9000/9000 [00:02<00:00, 4032.06it/s]\n",
            "Processing test - dog: 100%|██████████| 9000/9000 [00:01<00:00, 4509.06it/s]\n",
            "Processing test - truck: 100%|██████████| 9000/9000 [00:02<00:00, 4431.94it/s]\n",
            "Processing test - bird: 100%|██████████| 9000/9000 [00:02<00:00, 4271.81it/s]\n",
            "Processing test - airplane: 100%|██████████| 9000/9000 [00:02<00:00, 4478.98it/s]\n",
            "Processing test - ship: 100%|██████████| 9000/9000 [00:02<00:00, 4423.76it/s]\n",
            "Processing test - frog: 100%|██████████| 9000/9000 [00:01<00:00, 4594.54it/s]\n",
            "Processing test - horse: 100%|██████████| 9000/9000 [00:01<00:00, 4570.83it/s]\n",
            "Processing test - deer: 100%|██████████| 9000/9000 [00:01<00:00, 4522.00it/s]\n",
            "Processing test - automobile: 100%|██████████| 9000/9000 [00:01<00:00, 4599.83it/s]\n",
            "Processing train - cat: 100%|██████████| 9000/9000 [00:01<00:00, 4768.78it/s]\n",
            "Processing train - dog: 100%|██████████| 9000/9000 [00:02<00:00, 4285.60it/s]\n",
            "Processing train - truck: 100%|██████████| 9000/9000 [00:01<00:00, 4610.64it/s]\n",
            "Processing train - bird: 100%|██████████| 9000/9000 [00:02<00:00, 4364.21it/s]\n",
            "Processing train - airplane: 100%|██████████| 9000/9000 [00:01<00:00, 4513.15it/s]\n",
            "Processing train - ship: 100%|██████████| 9000/9000 [00:02<00:00, 4317.51it/s]\n",
            "Processing train - frog: 100%|██████████| 9000/9000 [00:02<00:00, 4304.67it/s]\n",
            "Processing train - horse: 100%|██████████| 9000/9000 [00:02<00:00, 4024.70it/s]\n",
            "Processing train - deer: 100%|██████████| 9000/9000 [00:01<00:00, 4507.23it/s]\n",
            "Processing train - automobile: 100%|██████████| 9000/9000 [00:01<00:00, 4716.26it/s]\n",
            "Processing valid - cat: 100%|██████████| 9000/9000 [00:01<00:00, 4980.94it/s]\n",
            "Processing valid - dog: 100%|██████████| 9000/9000 [00:01<00:00, 4939.95it/s]\n",
            "Processing valid - truck: 100%|██████████| 9000/9000 [00:01<00:00, 4643.73it/s]\n",
            "Processing valid - bird: 100%|██████████| 9000/9000 [00:02<00:00, 3462.12it/s]\n",
            "Processing valid - airplane: 100%|██████████| 9000/9000 [00:02<00:00, 4221.54it/s]\n",
            "Processing valid - ship: 100%|██████████| 9000/9000 [00:02<00:00, 4125.80it/s]\n",
            "Processing valid - frog: 100%|██████████| 9000/9000 [00:02<00:00, 4076.81it/s]\n",
            "Processing valid - horse: 100%|██████████| 9000/9000 [00:01<00:00, 4615.57it/s]\n",
            "Processing valid - deer: 100%|██████████| 9000/9000 [00:01<00:00, 4675.37it/s]\n",
            "Processing valid - automobile: 100%|██████████| 9000/9000 [00:02<00:00, 4278.61it/s]"
          ]
        },
        {
          "name": "stdout",
          "output_type": "stream",
          "text": [
            "Time(sec): 61.89\n"
          ]
        },
        {
          "name": "stderr",
          "output_type": "stream",
          "text": [
            "\n"
          ]
        }
      ],
      "source": [
        "import os\n",
        "import pyarrow as pa\n",
        "import lance\n",
        "import time\n",
        "from tqdm import tqdm\n",
        "\n",
        "def process_images(images_folder, split, schema):\n",
        "\n",
        "    # Iterate over the categories within each data type\n",
        "    label_folder = os.path.join(images_folder, split)\n",
        "    for label in os.listdir(label_folder):\n",
        "        label_folder = os.path.join(images_folder, split, label)\n",
        "        \n",
        "        # Iterate over the images within each label\n",
        "        for filename in tqdm(os.listdir(label_folder), desc=f\"Processing {split} - {label}\"):\n",
        "            # Construct the full path to the image\n",
        "            image_path = os.path.join(label_folder, filename)\n",
        "\n",
        "            # Read and convert the image to a binary format\n",
        "            with open(image_path, 'rb') as f:\n",
        "                binary_data = f.read()\n",
        "\n",
        "            image_array = pa.array([binary_data], type=pa.binary())\n",
        "            filename_array = pa.array([filename], type=pa.string())\n",
        "            label_array = pa.array([label], type=pa.string())\n",
        "            split_array = pa.array([split], type=pa.string())\n",
        "\n",
        "            # Yield RecordBatch for each image\n",
        "            yield pa.RecordBatch.from_arrays(\n",
        "                [image_array, filename_array, label_array, split_array],\n",
        "                schema=schema\n",
        "            )\n",
        "\n",
        "# Function to write PyArrow Table to Lance dataset\n",
        "def write_to_lance(images_folder, dataset_name, schema):\n",
        "    for split in ['test', 'train', 'valid']:\n",
        "        lance_file_path = os.path.join(images_folder, f\"{dataset_name}_{split}.lance\")\n",
        "        \n",
        "        reader = pa.RecordBatchReader.from_batches(schema, process_images(images_folder, split, schema))\n",
        "        lance.write_dataset(\n",
        "            reader,\n",
        "            lance_file_path,\n",
        "            schema,\n",
        "        )\n",
        "\n",
        "\n",
        "dataset_path = \"cinic-10-data\"\n",
        "dataset_name = os.path.basename(dataset_path)\n",
        "\n",
        "start = time.time()\n",
        "schema = pa.schema([\n",
        "    pa.field(\"image\", pa.binary()),\n",
        "    pa.field(\"filename\", pa.string()),\n",
        "    pa.field(\"label\", pa.string()),\n",
        "    pa.field(\"split\", pa.string())\n",
        "])\n",
        "\n",
        "start = time.time()\n",
        "write_to_lance(dataset_path, dataset_name, schema)\n",
        "end = time.time()\n",
        "print(f\"Time(sec): {end - start:.2f}\")"
      ]
    },
    {
      "cell_type": "markdown",
      "metadata": {},
      "source": [
        "### Defining the Image Classes, Transformation function and other utilities\n",
        "\n",
        "We are defining the different image classes that comes with the `cinic-10` and the transformation functions that needs to be applied to the images."
      ]
    },
    {
      "cell_type": "code",
      "execution_count": 5,
      "metadata": {
        "id": "toSrp4xvFlwu"
      },
      "outputs": [],
      "source": [
        "# Define the image classes\n",
        "classes = ('airplane', 'automobile', 'bird', 'cat', 'deer', 'dog', 'frog', 'horse', 'ship', 'truck')\n",
        "\n",
        "# transformation function \n",
        "transform_train = transforms.Compose([\n",
        "    transforms.Resize((32, 32)),\n",
        "    transforms.RandomHorizontalFlip(),\n",
        "    transforms.ToTensor(),\n",
        "    transforms.Normalize((0.4914, 0.4822, 0.4465), (0.2023, 0.1994, 0.2010)),\n",
        "])\n",
        "\n",
        "transform_test = transforms.Compose([\n",
        "    transforms.ToTensor(),\n",
        "    transforms.Resize((32, 32)),\n",
        "    transforms.Normalize((0.4914, 0.4822, 0.4465), (0.2023, 0.1994, 0.2010)),\n",
        "])\n",
        "\n",
        "transform_val = transforms.Compose([\n",
        "    transforms.ToTensor(),\n",
        "    transforms.Resize((32, 32)),\n",
        "    transforms.Normalize((0.4914, 0.4822, 0.4465), (0.2023, 0.1994, 0.2010)),\n",
        "])"
      ]
    },
    {
      "cell_type": "code",
      "execution_count": 6,
      "metadata": {
        "colab": {
          "base_uri": "https://localhost:8080/"
        },
        "id": "8NwTeSSQFyHz",
        "outputId": "4de238f1-17ef-4902-fa8c-2aebcdba1f8d"
      },
      "outputs": [
        {
          "name": "stdout",
          "output_type": "stream",
          "text": [
            "CUDA is not available, using CPU instead\n"
          ]
        }
      ],
      "source": [
        "if torch.cuda.is_available():\n",
        "    device = torch.device(\"cuda\")\n",
        "    print(\"CUDA is available\")\n",
        "else:\n",
        "    device = torch.device(\"cpu\")\n",
        "    print(\"CUDA is not available, using CPU instead\")"
      ]
    },
    {
      "cell_type": "markdown",
      "metadata": {},
      "source": [
        "# Custom Image Dataset Class\n",
        "\n",
        "We are going to use a custom Dataset class to load the images from the `cinic-10` Image Lance dataset. To know more about how we created a Lance image dataset, refer to `convert-any-image-dataset-to-lance.py` script in `converters` folder. \n",
        "\n",
        "\n",
        "Along with it, we are passing the adequate number of different classes and transformation function that needs to be applied to the images.\n",
        "\n",
        "To make sure the cnn architecture remains constant for all kind of images, we are going to apply the `RGB transformation` to the various images to maintain the same color space with a default setting of 3 channels."
      ]
    },
    {
      "cell_type": "code",
      "execution_count": 7,
      "metadata": {},
      "outputs": [],
      "source": [
        "# Define the custom dataset class\n",
        "class CustomImageDataset(data.Dataset):\n",
        "    def __init__(self, classes, lance_dataset, transform=None):\n",
        "        self.classes = classes\n",
        "        self.ds = lance.dataset(lance_dataset)\n",
        "        self.transform = transform\n",
        "\n",
        "    def __len__(self):\n",
        "        return self.ds.count_rows()\n",
        "\n",
        "    def __getitem__(self, idx):\n",
        "        raw_data = self.ds.take([idx], columns=['image', 'label']).to_pydict()\n",
        "        img_data, label = raw_data['image'][0], raw_data['label'][0]\n",
        "\n",
        "        img = Image.open(io.BytesIO(img_data))\n",
        "\n",
        "        # Convert grayscale images to RGB\n",
        "        if img.mode != 'RGB':\n",
        "            img = img.convert('RGB')\n",
        "\n",
        "        if self.transform:\n",
        "            img = self.transform(img)\n",
        "\n",
        "        label = self.classes.index(label)\n",
        "        return img, label"
      ]
    },
    {
      "cell_type": "markdown",
      "metadata": {},
      "source": [
        "# Model hyperparameters and Architecture"
      ]
    },
    {
      "cell_type": "code",
      "execution_count": 16,
      "metadata": {
        "id": "j2ZjNsWFF_jq"
      },
      "outputs": [],
      "source": [
        "lr = 1e-3\n",
        "momentum = 0.9\n",
        "number_of_epochs = 1\n",
        "cinic_root = \"cinic-10-data\"\n",
        "train_dataset_path = \"cinic-10-data/cinic-10-data_train.lance/\"\n",
        "test_dataset_path = \"cinic-10-data/cinic-10-data_test.lance/\"\n",
        "validation_dataset_path = \"cinic-10-data/cinic-10-data_valid.lance/\"\n",
        "model_batch_size = 64\n",
        "batches_to_train = 256\n",
        "batches_to_val = 128"
      ]
    },
    {
      "cell_type": "markdown",
      "metadata": {},
      "source": [
        "### Using a pre-trained `ResNet-34` architecture\n",
        "\n",
        "We are going to use a pre-trained `ResNet-34` architecture to train the model."
      ]
    },
    {
      "cell_type": "code",
      "execution_count": 9,
      "metadata": {},
      "outputs": [],
      "source": [
        "class Net(nn.Module):\n",
        "    def __init__(self, num_classes):\n",
        "        super(Net, self).__init__()\n",
        "        self.resnet = models.resnet34(pretrained=True)\n",
        "        num_ftrs = self.resnet.fc.in_features\n",
        "        self.resnet.fc = nn.Linear(num_ftrs, num_classes)\n",
        "\n",
        "    def forward(self, x):\n",
        "        return self.resnet(x)"
      ]
    },
    {
      "cell_type": "markdown",
      "metadata": {},
      "source": [
        "# Training Function\n",
        "\n",
        "`train_model` is the standard training function that we are going to use to train our CNN model. We will pass the relevant dataloaders, model, loss function, optimizer, device , batches to train and number of epochs to train the model."
      ]
    },
    {
      "cell_type": "code",
      "execution_count": 10,
      "metadata": {
        "id": "1uwpoeriGPlk"
      },
      "outputs": [],
      "source": [
        "def train_model(train_loader, val_loader, model, criterion, optimizer, device, num_epochs, batch_to_train, batch_to_val):\n",
        "    model.train()\n",
        "    total_start = time.time()\n",
        "\n",
        "    for epoch in range(num_epochs):\n",
        "        running_loss = 0.0\n",
        "        total_batch_start = time.time()\n",
        "\n",
        "        with tqdm(enumerate(train_loader), total=batch_to_train, desc=f\"Epoch {epoch+1}\") as pbar_epoch:\n",
        "            for i, data in pbar_epoch:\n",
        "                if i >= batch_to_train:\n",
        "                    break\n",
        "\n",
        "                optimizer.zero_grad()\n",
        "                inputs, labels = data[0].to(device), data[1].to(device)\n",
        "\n",
        "                outputs = model(inputs)\n",
        "                loss = criterion(outputs, labels)\n",
        "\n",
        "                loss.backward()\n",
        "                optimizer.step()\n",
        "\n",
        "                running_loss += loss.item()\n",
        "\n",
        "                if i % 10 == 0:\n",
        "                    pbar_epoch.set_postfix({'Loss': loss.item()})\n",
        "                    pbar_epoch.update(10)\n",
        "\n",
        "        per_epoch_time = time.time() - total_batch_start\n",
        "        avg_loss = running_loss / batch_to_train\n",
        "        print(f'Epoch {epoch+1}/{num_epochs} | Avg Loss: {avg_loss:.4f} | Time: {per_epoch_time:.4f} sec')\n",
        "        wandb.log({\"Loss\": loss.item()})\n",
        "        wandb.log({\"Epoch Duration\": per_epoch_time})\n",
        "\n",
        "    total_training_time = (time.time() - total_start) / 60\n",
        "    print(f\"Total Training Time: {total_training_time:.4f} mins\")\n",
        "\n",
        "\n",
        "    # Validation\n",
        "    model.eval()\n",
        "    correct_val = 0\n",
        "    total_val = 0\n",
        "\n",
        "    with torch.no_grad():\n",
        "        for i, data in enumerate(val_loader):\n",
        "            if i >= batch_to_val:\n",
        "                break\n",
        "            images_val, labels_val = data[0].to(device), data[1].to(device)\n",
        "            outputs_val = model(images_val)\n",
        "            _, predicted_val = torch.max(outputs_val.data, 1)\n",
        "            total_val += labels_val.size(0)\n",
        "            correct_val += (predicted_val == labels_val).sum().item()\n",
        "\n",
        "    val_accuracy = 100 * correct_val / total_val\n",
        "    print(f'Validation Accuracy: {val_accuracy:.2f}%')\n",
        "    wandb.log({\"Validation Accuracy\": val_accuracy})\n",
        "    print('Finished Training')\n",
        "    return model"
      ]
    },
    {
      "cell_type": "code",
      "execution_count": 13,
      "metadata": {
        "id": "302JONSKGXY8"
      },
      "outputs": [],
      "source": [
        "lance_train_dataset = CustomImageDataset(classes, train_dataset_path, transform=transform_train)\n",
        "lance_test_dataset = CustomImageDataset(classes, test_dataset_path, transform=transform_test)\n",
        "lance_val_dataset = CustomImageDataset(classes, validation_dataset_path, transform=transform_val)\n",
        "\n",
        "lance_train_loader = torch.utils.data.DataLoader(lance_train_dataset, batch_size=model_batch_size, shuffle=True)\n",
        "lance_test_loader = torch.utils.data.DataLoader(lance_test_dataset, batch_size=model_batch_size, shuffle=True)\n",
        "lance_val_loader = torch.utils.data.DataLoader(lance_val_dataset, batch_size=model_batch_size, shuffle=True)\n",
        "\n",
        "vanilla_train_dataset = ImageFolder(root=f'{cinic_root}/train', transform=transform_train)\n",
        "vanilla_test_dataset = ImageFolder(root=f'{cinic_root}/test', transform=transform_test)\n",
        "vanilla_val_dataset = ImageFolder(root=f'{cinic_root}/valid', transform=transform_val)\n",
        "\n",
        "vanilla_train_loader = torch.utils.data.DataLoader(vanilla_train_dataset, batch_size=model_batch_size, shuffle=True)\n",
        "vanilla_test_loader = torch.utils.data.DataLoader(vanilla_test_dataset, batch_size=model_batch_size, shuffle=True)\n",
        "vanilla_val_loader = torch.utils.data.DataLoader(vanilla_val_dataset, batch_size=model_batch_size, shuffle=True)"
      ]
    },
    {
      "cell_type": "code",
      "execution_count": 18,
      "metadata": {},
      "outputs": [
        {
          "data": {
            "text/html": [
              "Finishing last run (ID:nom5o529) before initializing another..."
            ],
            "text/plain": [
              "<IPython.core.display.HTML object>"
            ]
          },
          "metadata": {},
          "output_type": "display_data"
        },
        {
          "data": {
            "text/html": [
              " View run <strong style=\"color:#cdcd00\">crimson-hill-2</strong> at: <a href='https://wandb.ai/vipulmaheshwari/cinic/runs/nom5o529' target=\"_blank\">https://wandb.ai/vipulmaheshwari/cinic/runs/nom5o529</a><br/> View project at: <a href='https://wandb.ai/vipulmaheshwari/cinic' target=\"_blank\">https://wandb.ai/vipulmaheshwari/cinic</a><br/>Synced 5 W&B file(s), 0 media file(s), 0 artifact file(s) and 0 other file(s)"
            ],
            "text/plain": [
              "<IPython.core.display.HTML object>"
            ]
          },
          "metadata": {},
          "output_type": "display_data"
        },
        {
          "data": {
            "text/html": [
              "Find logs at: <code>./wandb/run-20240612_223627-nom5o529/logs</code>"
            ],
            "text/plain": [
              "<IPython.core.display.HTML object>"
            ]
          },
          "metadata": {},
          "output_type": "display_data"
        },
        {
          "data": {
            "text/html": [
              "Successfully finished last run (ID:nom5o529). Initializing new run:<br/>"
            ],
            "text/plain": [
              "<IPython.core.display.HTML object>"
            ]
          },
          "metadata": {},
          "output_type": "display_data"
        },
        {
          "data": {
            "text/html": [
              "Tracking run with wandb version 0.17.1"
            ],
            "text/plain": [
              "<IPython.core.display.HTML object>"
            ]
          },
          "metadata": {},
          "output_type": "display_data"
        },
        {
          "data": {
            "text/html": [
              "Run data is saved locally in <code>/Users/vipul/Nova/Work/lancedb/lance-deeplearning-recipes/community-examples/wandb/run-20240612_223649-vfg8wzla</code>"
            ],
            "text/plain": [
              "<IPython.core.display.HTML object>"
            ]
          },
          "metadata": {},
          "output_type": "display_data"
        },
        {
          "data": {
            "text/html": [
              "Syncing run <strong><a href='https://wandb.ai/vipulmaheshwari/cinic/runs/vfg8wzla' target=\"_blank\">swept-lion-3</a></strong> to <a href='https://wandb.ai/vipulmaheshwari/cinic' target=\"_blank\">Weights & Biases</a> (<a href='https://wandb.me/run' target=\"_blank\">docs</a>)<br/>"
            ],
            "text/plain": [
              "<IPython.core.display.HTML object>"
            ]
          },
          "metadata": {},
          "output_type": "display_data"
        },
        {
          "data": {
            "text/html": [
              " View project at <a href='https://wandb.ai/vipulmaheshwari/cinic' target=\"_blank\">https://wandb.ai/vipulmaheshwari/cinic</a>"
            ],
            "text/plain": [
              "<IPython.core.display.HTML object>"
            ]
          },
          "metadata": {},
          "output_type": "display_data"
        },
        {
          "data": {
            "text/html": [
              " View run at <a href='https://wandb.ai/vipulmaheshwari/cinic/runs/vfg8wzla' target=\"_blank\">https://wandb.ai/vipulmaheshwari/cinic/runs/vfg8wzla</a>"
            ],
            "text/plain": [
              "<IPython.core.display.HTML object>"
            ]
          },
          "metadata": {},
          "output_type": "display_data"
        },
        {
          "name": "stderr",
          "output_type": "stream",
          "text": [
            "Epoch 1: 100%|██████████| 256/256 [03:59<00:00,  1.07it/s, Loss=1.1] \n"
          ]
        },
        {
          "name": "stdout",
          "output_type": "stream",
          "text": [
            "Epoch 1/1 | Avg Loss: 1.6100 | Time: 239.6082 sec\n",
            "Total Training Time: 3.9936 mins\n",
            "Validation Accuracy: 52.39%\n",
            "Finished Training\n"
          ]
        },
        {
          "name": "stderr",
          "output_type": "stream",
          "text": [
            "Epoch 1: 100%|██████████| 256/256 [04:15<00:00,  1.00it/s, Loss=1.37]\n"
          ]
        },
        {
          "name": "stdout",
          "output_type": "stream",
          "text": [
            "Epoch 1/1 | Avg Loss: 1.2522 | Time: 255.0717 sec\n",
            "Total Training Time: 4.2512 mins\n",
            "Validation Accuracy: 58.17%\n",
            "Finished Training\n"
          ]
        }
      ],
      "source": [
        "wandb.init(project=\"cinic\")\n",
        "\n",
        "net = Net(len(classes)).to(device)\n",
        "\n",
        "criterion = nn.CrossEntropyLoss()\n",
        "optimizer = optim.SGD(net.parameters(), lr=lr, momentum=momentum)\n",
        "\n",
        "lance_trained_model = train_model(lance_train_loader, lance_val_loader, net, criterion, optimizer, device, number_of_epochs, batches_to_train, batches_to_val)\n",
        "vanilla_trained_model = train_model(vanilla_train_loader, vanilla_val_loader, net, criterion, optimizer, device, number_of_epochs, batches_to_train, batches_to_val)"
      ]
    },
    {
      "cell_type": "code",
      "execution_count": 24,
      "metadata": {
        "id": "mSfoUrdDP1hw"
      },
      "outputs": [],
      "source": [
        "DIR_PATH = '../community-examples'\n",
        "\n",
        "# Define the file paths\n",
        "PATH_LANCE_MODEL = os.path.join(DIR_PATH, 'cinic_resnet_lance_model.pth')\n",
        "PATH_VANILLA_MODEL = os.path.join(DIR_PATH, 'cinic_resnet_vanilla_model.pth')\n",
        "\n",
        "# Check if the directory exists or not, if not create it\n",
        "if not os.path.isdir(DIR_PATH):\n",
        "    os.mkdir(DIR_PATH)\n",
        "\n",
        "# Save the models\n",
        "torch.save(vanilla_trained_model.state_dict(), PATH_VANILLA_MODEL)\n",
        "torch.save(lance_trained_model.state_dict(), PATH_LANCE_MODEL)\n"
      ]
    },
    {
      "cell_type": "code",
      "execution_count": 27,
      "metadata": {
        "colab": {
          "base_uri": "https://localhost:8080/"
        },
        "id": "i6jnPntXP5Yr",
        "outputId": "4dc3f222-d9b6-4286-8678-780d043184c3"
      },
      "outputs": [
        {
          "name": "stderr",
          "output_type": "stream",
          "text": [
            "Testing lance: 100%|██████████| 1407/1407 [13:17<00:00,  1.76it/s]\n"
          ]
        },
        {
          "name": "stdout",
          "output_type": "stream",
          "text": [
            "Test Accuracy: 58.34% for lance dataloader\n"
          ]
        },
        {
          "name": "stderr",
          "output_type": "stream",
          "text": [
            "Testing vanilla: 100%|██████████| 1407/1407 [13:38<00:00,  1.72it/s]"
          ]
        },
        {
          "name": "stdout",
          "output_type": "stream",
          "text": [
            "Test Accuracy: 58.34% for vanilla dataloader\n"
          ]
        },
        {
          "name": "stderr",
          "output_type": "stream",
          "text": [
            "\n"
          ]
        }
      ],
      "source": [
        "from tqdm import tqdm\n",
        "import torch\n",
        "\n",
        "def test_model(test_loader, model, device, type):\n",
        "    model.eval()\n",
        "    correct_test = 0\n",
        "    total_test = 0\n",
        "\n",
        "    with torch.no_grad():\n",
        "        for data in tqdm(test_loader, desc=f\"Testing {type}\"):\n",
        "            images_test, labels_test = data[0].to(device), data[1].to(device)\n",
        "            outputs_test = model(images_test)\n",
        "            _, predicted_test = torch.max(outputs_test.data, 1)\n",
        "            total_test += labels_test.size(0)\n",
        "            correct_test += (predicted_test == labels_test).sum().item()\n",
        "\n",
        "    test_accuracy = 100 * correct_test / total_test\n",
        "    print(f'Test Accuracy: {test_accuracy:.2f}% for {type} dataloader')\n",
        "\n",
        "# Assuming 'device' is defined, e.g., device = torch.device(\"cuda\" if torch.cuda.is_available() else \"cpu\")\n",
        "test_model(lance_test_loader, lance_trained_model, device, \"lance\")\n",
        "test_model(vanilla_test_loader, vanilla_trained_model, device, \"vanilla\")"
      ]
    }
  ],
  "metadata": {
    "accelerator": "GPU",
    "colab": {
      "gpuType": "T4",
      "provenance": []
    },
    "kernelspec": {
      "display_name": "Python 3",
      "name": "python3"
    },
    "language_info": {
      "codemirror_mode": {
        "name": "ipython",
        "version": 3
      },
      "file_extension": ".py",
      "mimetype": "text/x-python",
      "name": "python",
      "nbconvert_exporter": "python",
      "pygments_lexer": "ipython3",
      "version": "3.12.3"
    }
  },
  "nbformat": 4,
  "nbformat_minor": 0
}
